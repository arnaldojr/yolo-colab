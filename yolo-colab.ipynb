# My fork GitHub represents the state when everything worked, so use this:
!git clone https://github.com/awangenh/darknet
# Originally: 
# !git clone https://github.com/AlexeyAB/darknet
  
!apt-get update
!apt-get upgrade

# Prepare your Colab environment
!apt-get install build-essential
!apt-get install cmake git libgtk2.0-dev pkg-config libavcodec-dev libavformat-dev libswscale-dev

# Install imagelibs
!apt-get install libavcodec-dev libavformat-dev libswscale-d

# Install OpenCV libs
!apt-get install libopencv-dev

  
%cd darknet

!ls

# Parameterize the Makefile so it compiles for GPU and using OpenCV 
!sed -i 's/OPENCV=0/OPENCV=1/g' Makefile
!sed -i 's/GPU=0/GPU=1/g' Makefile


!ls
%cd ../
!ls

# Install your compilers....
!apt install g++-5
!apt install gcc-5

!apt update
!apt upgrade

# Look if your colab is accessing the GPU properly
import tensorflow as tf
device_name = tf.test.gpu_device_name()
print(device_name)

print("'sup!'")

!/usr/local/cuda/bin/nvcc --version

%cd darknet
!wget https://pjreddie.com/media/files/yolov3.weights
!make

!./darknet detect cfg/yolov3.cfg yolov3.weights data/person.jpg

def imShow(path):
  import cv2
  import matplotlib.pyplot as plt
  %matplotlib inline

  image = cv2.imread(path)
  height, width = image.shape[:2]
  resized_image = cv2.resize(image,(3*width, 3*height), interpolation = cv2.INTER_CUBIC)

  fig = plt.gcf()
  fig.set_size_inches(18, 10)
  plt.axis("off")
  #plt.rcParams['figure.figsize'] = [10, 5]
  plt.imshow(cv2.cvtColor(resized_image, cv2.COLOR_BGR2RGB))
  plt.show()
  
  
def upload():
  from google.colab import files
  uploaded = files.upload() 
  for name, data in uploaded.items():
    with open(name, 'wb') as f:
      f.write(data)
      print ('saved file', name)
def download(path):
  from google.colab import files
  files.download(path)
  
  

imShow('predictions.jpg')
